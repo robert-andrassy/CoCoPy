{
 "cells": [
  {
   "cell_type": "markdown",
   "metadata": {},
   "source": [
    "# Flux of kinetic energy in a two-stream model"
   ]
  },
  {
   "cell_type": "code",
   "execution_count": null,
   "metadata": {},
   "outputs": [],
   "source": [
    "%pylab widget\n",
    "#%pylab ipympl\n",
    "#%pylab inline\n",
    "from plotting_settings import *\n",
    "\n",
    "import os\n",
    "cwd = os.getcwd()\n",
    "plot_dir = os.path.join(cwd, 'plots')\n",
    "if not os.path.exists(plot_dir):\n",
    "    os.mkdir(plot_dir)\n",
    "\n",
    "import logging\n",
    "logger = logging.getLogger()\n",
    "logger.setLevel(logging.WARNING)"
   ]
  },
  {
   "cell_type": "code",
   "execution_count": null,
   "metadata": {},
   "outputs": [],
   "source": [
    "ifig=1; close(ifig);\n",
    "figure(ifig, figsize=(width, 0.7*width), dpi=scrdpi)\n",
    "\n",
    "f = np.arange(1, 100)/100.\n",
    "plot(f, f*((1. - f)/f)**(3./2.)*((f/(1 - f))**2 - 1.), ls=ls[0], color=lc[1])\n",
    "xlim((0., 1.))\n",
    "ylim((-10., 10.))\n",
    "xlabel(r'$f_\\mathrm{d}$')\n",
    "ylabel(r'$\\mathcal{F}_\\mathrm{k} \\left(\\frac{1}{2} \\rho_0 u_\\mathrm{rms}^3\\right)^{-1}$')\n",
    "tight_layout()\n",
    "savefig(os.path.join(plot_dir, 'FK_two-stream_model.pdf'), dpi=savedpi)"
   ]
  },
  {
   "cell_type": "code",
   "execution_count": null,
   "metadata": {},
   "outputs": [],
   "source": []
  }
 ],
 "metadata": {
  "kernelspec": {
   "display_name": "Python 3",
   "language": "python",
   "name": "python3"
  },
  "language_info": {
   "codemirror_mode": {
    "name": "ipython",
    "version": 3
   },
   "file_extension": ".py",
   "mimetype": "text/x-python",
   "name": "python",
   "nbconvert_exporter": "python",
   "pygments_lexer": "ipython3",
   "version": "3.7.4"
  }
 },
 "nbformat": 4,
 "nbformat_minor": 4
}
