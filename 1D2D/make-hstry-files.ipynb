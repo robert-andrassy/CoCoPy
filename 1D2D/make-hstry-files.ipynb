{
 "cells": [
  {
   "cell_type": "code",
   "execution_count": null,
   "metadata": {},
   "outputs": [],
   "source": [
    "from ppmpy import ppm\n",
    "\n",
    "data_path = '/data/CoCo/'"
   ]
  },
  {
   "cell_type": "code",
   "execution_count": null,
   "metadata": {},
   "outputs": [],
   "source": [
    "def make_hstry_file(run_path, file_name):\n",
    "    rps = ppm.RprofSet(run_path, geometry='cartesian')\n",
    "    dump_list = rps.get_dump_list()\n",
    "    \n",
    "    with open(os.path.join(run_path, file_name), 'w+') as fout:\n",
    "        fout.write(\"NDump  t                TimeStamp\\n\\n\")\n",
    "        for dmp in dump_list:\n",
    "            rp = rps.get_dump(dmp)\n",
    "            t = rp.get('t')\n",
    "            fout.write(\"{: 4d}   {:.8e}   Thu Jan 01 1970 00:00:00\\n\".format(dmp, t))"
   ]
  },
  {
   "cell_type": "code",
   "execution_count": null,
   "metadata": {},
   "outputs": [],
   "source": [
    "codes = ('FLASH', 'MUSIC', 'PPMSTAR', 'PROMPI', 'SLH')\n",
    "\n",
    "for res in (128, 256, 512):\n",
    "    for code in codes:\n",
    "        # We do not have 512^3 runs from all codes.\n",
    "        if (res == 512) and (code not in ('PPMSTAR', 'PROMPI')):\n",
    "            continue\n",
    "        \n",
    "        rid = code+'-'+str(res)\n",
    "        run_path = os.path.join(data_path, '1D-profiles', code, rid)\n",
    "        file_name = '{:s}-{:d}-0000.hstry'.format(code, res)\n",
    "        make_hstry_file(run_path, file_name)\n",
    "        print(file_name)"
   ]
  },
  {
   "cell_type": "code",
   "execution_count": null,
   "metadata": {},
   "outputs": [],
   "source": []
  }
 ],
 "metadata": {
  "kernelspec": {
   "display_name": "Python 3",
   "language": "python",
   "name": "python3"
  },
  "language_info": {
   "codemirror_mode": {
    "name": "ipython",
    "version": 3
   },
   "file_extension": ".py",
   "mimetype": "text/x-python",
   "name": "python",
   "nbconvert_exporter": "python",
   "pygments_lexer": "ipython3",
   "version": "3.7.4"
  }
 },
 "nbformat": 4,
 "nbformat_minor": 4
}
