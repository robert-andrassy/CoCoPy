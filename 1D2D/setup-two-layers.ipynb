{
 "cells": [
  {
   "cell_type": "markdown",
   "metadata": {},
   "source": [
    "# Two-layer code comparison problem"
   ]
  },
  {
   "cell_type": "code",
   "execution_count": null,
   "metadata": {},
   "outputs": [],
   "source": [
    "%pylab widget\n",
    "import numpy as np\n",
    "import matplotlib.pyplot as plt\n",
    "from scipy.integrate import solve_ivp, cumtrapz\n",
    "\n",
    "import logging\n",
    "logger = logging.getLogger()\n",
    "logger.setLevel(logging.WARNING)\n",
    "\n",
    "# Some of Paul Tol's colourblind-safe colours.\n",
    "lc = ('#0077bb', '#009988', '#ee7733', '#cc3311')"
   ]
  },
  {
   "cell_type": "code",
   "execution_count": null,
   "metadata": {},
   "outputs": [],
   "source": [
    "Rgasconst = 1.108800\n",
    "\n",
    "# Reference point.\n",
    "y0 = 1.\n",
    "\n",
    "# Density and pressure at the reference point.\n",
    "rho0 = 1.\n",
    "p0 = 0.6\n",
    "\n",
    "# Mean molecular weights of the two fluids.\n",
    "mu0 = 1.848\n",
    "mu1 = 1.802\n",
    "\n",
    "# gamma = dln(p)/dln(rho) for the two layers.\n",
    "gamma0 = 5./3.\n",
    "gamma1 = 1.3"
   ]
  },
  {
   "cell_type": "code",
   "execution_count": null,
   "metadata": {},
   "outputs": [],
   "source": [
    "def fg_func(y):\n",
    "    \"\"\"\n",
    "    Returns the function fg(y) that turns of gravity at the\n",
    "    top and bottom boundaries.\n",
    "    \"\"\"\n",
    "    \n",
    "    if y < 1.:\n",
    "        return 0.\n",
    "    elif y < 1.0625:\n",
    "        return 0.5*(1. + np.sin(16.*np.pi*(y - 1.03125)))\n",
    "    elif y < 2.9375:\n",
    "        return 1.\n",
    "    elif y < 3.:\n",
    "        return 0.5*(1. - np.sin(16.*np.pi*(y - 2.96875)))\n",
    "    else:\n",
    "        return 0.\n",
    "\n",
    "def g_func(y):\n",
    "    \"\"\"\n",
    "    Returns the gravity profile g(y).\n",
    "    \"\"\"\n",
    "    \n",
    "    g0 = -1.414870\n",
    "    return fg_func(y)*g0*y**(-5./4.)\n",
    "\n",
    "def fv_func(y):\n",
    "    \"\"\"\n",
    "    Returns the profile fv(y) of the fractional volume of\n",
    "    the lighter fluid.\n",
    "    \"\"\"\n",
    "    \n",
    "    if y < 1.9375:\n",
    "        return 0.\n",
    "    elif y < 2.0625:\n",
    "        return 0.5*(1. + np.sin(8.*np.pi*(y - 2.)))\n",
    "    else:\n",
    "        return 1.\n",
    "\n",
    "def dUdy(y, U):\n",
    "    \"\"\"\n",
    "    Returns the right hand sides of the two differential\n",
    "    equations that define the stratification:\n",
    "\n",
    "    dln(rho)/dy = (dln(p)/dy)/gamma,\n",
    "    dln(p)/dy = rho*g/p,\n",
    "    \n",
    "    where gamma = gamma0 + fv_func(y)*(gamma1 - gamma0) and\n",
    "    we are integrating for ln(rho) and ln(p).\n",
    "    \"\"\"\n",
    "\n",
    "    dlnpdy = np.exp(U[0])*g_func(y)/np.exp(U[1])\n",
    "    gamma = gamma0 + fv_func(y)*(gamma1 - gamma0)\n",
    "    dlnrhody = dlnpdy/gamma\n",
    "    \n",
    "    return [dlnrhody, dlnpdy]\n",
    "\n",
    "def cdiff(x):\n",
    "    \"\"\"\n",
    "    Returns the 2nd order central difference with one-sided\n",
    "    1st order differences applied at the boundaries of the\n",
    "    array x.\n",
    "    \"\"\"\n",
    "\n",
    "    dx = 0.5*(np.roll(x, -1) - np.roll(x, +1))\n",
    "    dx[0] = x[1] - x[0]\n",
    "    dx[-1] = x[-1] - x[-2]\n",
    "\n",
    "    return dx"
   ]
  },
  {
   "cell_type": "code",
   "execution_count": null,
   "metadata": {},
   "outputs": [],
   "source": [
    "# Vertical coordinate range. The computational domain\n",
    "# is (1., 3.) and the rest is provided to fill ghost\n",
    "# cells if needed.\n",
    "ylim = (0.9, 3.1)\n",
    "ngp = 10001\n",
    "y = np.linspace(ylim[0], ylim[1], ngp)\n",
    "dy = y[1] - y[0]\n",
    "\n",
    "# Gravity.\n",
    "g = np.vectorize(g_func)(y)\n",
    "\n",
    "# Gravitational potential.\n",
    "gpot = -cumtrapz(g, x=y, initial=0.)\n",
    "idx0 = np.argmin(np.abs(y - 3.))\n",
    "gpot -= gpot[idx0]\n",
    "\n",
    "# Fractional volume of the stably-stratified fluid.\n",
    "fv = np.vectorize(fv_func)(y)\n",
    "\n",
    "# Mean molecular weight.\n",
    "mu = (1. - fv)*mu0 + fv*mu1\n",
    "\n",
    "idx0 = np.argmax(y > y0)\n",
    "\n",
    "# Initial condition.\n",
    "U0 = [np.log(rho0), np.log(p0)]\n",
    "\n",
    "# Solve for HSE.\n",
    "U_above = solve_ivp(dUdy, (y0, ylim[1]), U0, t_eval=y[idx0:], \\\n",
    "                    max_step=dy, method='RK45', atol=1e-6)\n",
    "U_below = solve_ivp(dUdy, (y0, ylim[0]), U0, t_eval=np.flip(y[:idx0]), \\\n",
    "                    max_step=dy, method='RK45', atol=1e-6)\n",
    "\n",
    "lnrho = np.concatenate((np.flip(U_below['y'][0]), U_above['y'][0]))\n",
    "lnp = np.concatenate((np.flip(U_below['y'][1]), U_above['y'][1]))\n",
    "lnT = np.log(np.exp(lnp)*mu/(Rgasconst*np.exp(lnrho)))"
   ]
  },
  {
   "cell_type": "markdown",
   "metadata": {},
   "source": [
    "## Input gravity and fractional volume of the stably-stratified fluid"
   ]
  },
  {
   "cell_type": "code",
   "execution_count": null,
   "metadata": {},
   "outputs": [],
   "source": [
    "ifig=1; plt.close(ifig); plt.figure()\n",
    "\n",
    "ax0 = plt.gca()\n",
    "ax0.plot(y, g, '-', color=lc[1], label=r'$g$')\n",
    "ax0.legend(loc=2)\n",
    "ax0.set_xlim(ylim)\n",
    "ax0.set_ylim((-1.4, 0.1))\n",
    "ax0.set_xlabel(r'$y$')\n",
    "ax0.set_ylabel(r'$g$')\n",
    "\n",
    "ax1 = ax0.twinx()\n",
    "ax1.plot(y, fv, '--', color=lc[2], label=r'fv')\n",
    "ax1.legend(loc=4)\n",
    "ax1.set_xlim(ylim)\n",
    "ax1.set_ylim((-0.05, 1.05))\n",
    "ax1.set_xlabel(r'$y$')\n",
    "ax1.set_ylabel(r'fv')"
   ]
  },
  {
   "cell_type": "markdown",
   "metadata": {},
   "source": [
    "## Hydrostatic stratification of density, pressure, temperature, and mean molecular weight"
   ]
  },
  {
   "cell_type": "code",
   "execution_count": null,
   "metadata": {},
   "outputs": [],
   "source": [
    "ifig=2; plt.close(ifig); plt.figure()\n",
    "\n",
    "ax0 = plt.gca()\n",
    "ax0.plot(y, lnrho, '-', color=lc[0], label=r'$\\ln(\\rho)$')\n",
    "ax0.plot(y, lnp, '--', color=lc[1], label=r'$\\ln(p)$')\n",
    "ax0.plot(y, lnT, '-.', color=lc[2], label=r'$\\ln(T)$')\n",
    "ax0.legend(loc=3)\n",
    "ax0.set_xlim(ylim)\n",
    "ax0.set_ylim((-5.25, 0.25))\n",
    "ax0.set_xlabel(r'$y$')\n",
    "ax0.set_ylabel(r'$\\ln(\\rho)$, $\\ln(p)$, $\\ln(T)$')\n",
    "\n",
    "ax1 = ax0.twinx()\n",
    "ax1.plot(y, mu, ':', color=lc[3], label=r'$\\mu$')\n",
    "ax1.legend(loc=1)\n",
    "ax1.set_xlim(ylim)\n",
    "ax1.set_ylim((1.80, 1.85))\n",
    "ax1.set_xlabel(r'$y$')\n",
    "ax1.set_ylabel(r'$\\mu$')"
   ]
  },
  {
   "cell_type": "markdown",
   "metadata": {},
   "source": [
    "## Check that the stratification is hydrostatic"
   ]
  },
  {
   "cell_type": "code",
   "execution_count": null,
   "metadata": {},
   "outputs": [],
   "source": [
    "ifig=3; plt.close(ifig); plt.figure()\n",
    "hse_error = cdiff(lnp)/cdiff(y) - np.exp(lnrho)*g/np.exp(lnp)\n",
    "plt.semilogy(y, np.abs(hse_error), '-', color=lc[0])\n",
    "plt.xlim(ylim)\n",
    "plt.xlabel(r'$y$')\n",
    "plt.ylabel(r'$|\\mathrm{d}\\ln(p) / \\mathrm{d}y - \\rho g / p|$')"
   ]
  },
  {
   "cell_type": "markdown",
   "metadata": {},
   "source": [
    "## Check the pressure-density relation"
   ]
  },
  {
   "cell_type": "code",
   "execution_count": null,
   "metadata": {},
   "outputs": [],
   "source": [
    "ifig=4; plt.close(ifig); plt.figure()\n",
    "gamma = cdiff(lnp)/cdiff(lnrho)\n",
    "plt.plot(y, gamma, '-', color=lc[0])\n",
    "plt.xlim(ylim)\n",
    "plt.xlabel(r'$y$')\n",
    "plt.ylabel(r'$\\mathrm{d}\\ln(p) / \\mathrm{d}\\ln(\\rho)$')"
   ]
  },
  {
   "cell_type": "markdown",
   "metadata": {},
   "source": [
    "## Write the stratification into a file"
   ]
  },
  {
   "cell_type": "code",
   "execution_count": null,
   "metadata": {},
   "outputs": [],
   "source": [
    "with open('setup-two-layers.in', 'w') as fout:\n",
    "    fout.write('{:d}\\n'.format(ngp))\n",
    "    fstr = '{:.6e}   '*6 + '\\n'\n",
    "    for row in zip(y, g, gpot, fv, np.exp(lnrho), np.exp(lnp)):\n",
    "        fout.write(fstr.format(*row))"
   ]
  },
  {
   "cell_type": "code",
   "execution_count": null,
   "metadata": {},
   "outputs": [],
   "source": []
  }
 ],
 "metadata": {
  "kernelspec": {
   "display_name": "Python 3",
   "language": "python",
   "name": "python3"
  },
  "language_info": {
   "codemirror_mode": {
    "name": "ipython",
    "version": 3
   },
   "file_extension": ".py",
   "mimetype": "text/x-python",
   "name": "python",
   "nbconvert_exporter": "python",
   "pygments_lexer": "ipython3",
   "version": "3.7.4"
  }
 },
 "nbformat": 4,
 "nbformat_minor": 2
}
