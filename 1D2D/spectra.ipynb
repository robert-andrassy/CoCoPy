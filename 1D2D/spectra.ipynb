{
 "cells": [
  {
   "cell_type": "markdown",
   "metadata": {},
   "source": [
    "# Spectra of kinetic energy"
   ]
  },
  {
   "cell_type": "code",
   "execution_count": null,
   "metadata": {},
   "outputs": [],
   "source": [
    "%pylab widget\n",
    "#%pylab ipympl\n",
    "#%pylab inline\n",
    "from plotting_settings import *\n",
    "\n",
    "import os\n",
    "cwd = os.getcwd()\n",
    "plot_dir = os.path.join(cwd, 'plots')\n",
    "if not os.path.exists(plot_dir):\n",
    "    os.mkdir(plot_dir)\n",
    "\n",
    "import logging\n",
    "logger = logging.getLogger()\n",
    "logger.setLevel(logging.WARNING)\n",
    "\n",
    "data_path = '/data/CoCo/'"
   ]
  },
  {
   "cell_type": "code",
   "execution_count": null,
   "metadata": {},
   "outputs": [],
   "source": [
    "def get_avg_spectra(path, fn_format, dumps, nbins):\n",
    "    k = np.zeros(nbins)\n",
    "    power = np.zeros((2, nbins))\n",
    "    \n",
    "    for i, dmp in enumerate(dumps):\n",
    "        spec_name = fn_format.format(dmp)\n",
    "        data = np.loadtxt(os.path.join(path, spec_name), skiprows=5, max_rows=nbins)\n",
    "        k += data[:, 0]\n",
    "        power[0, :] += data[:, 1]\n",
    "        data = np.loadtxt(os.path.join(path, spec_name), skiprows=5+nbins+4, max_rows=nbins)\n",
    "        power[1, :] += data[:, 1]\n",
    "    k /= len(dumps)\n",
    "    power /= len(dumps)\n",
    "    \n",
    "    return k, power\n",
    "\n",
    "k = {}\n",
    "power = {}\n",
    "run_lbls = {}\n",
    "run_list = {}\n",
    "dumps = range(100, 401)\n",
    "\n",
    "codes = ('FLASH', 'MUSIC', 'PPMSTAR', 'PROMPI', 'SLH')\n",
    "\n",
    "for res in (128, 256, 512):\n",
    "    for code in codes:\n",
    "        # We only have one full-length 512**3 run.\n",
    "        if (res == 512) and (code not in ('PPMSTAR',)):\n",
    "            continue\n",
    "        \n",
    "        rid = code+'-'+str(res)\n",
    "        run_path = os.path.join(data_path, 'spectra', code, rid)\n",
    "        fn_format = rid+'-'+'{:04d}.spec'\n",
    "        run_lbls[rid] = r'{:s}, ${:d}^3$'.format(code, res)\n",
    "        \n",
    "        k[rid], power[rid] = get_avg_spectra(run_path, fn_format, dumps, res//2)\n",
    "        print('{:s} done.'.format(rid))\n",
    "        \n",
    "    run_list[res] = [rid for rid in run_lbls.keys() if str(res) in rid]"
   ]
  },
  {
   "cell_type": "code",
   "execution_count": null,
   "metadata": {},
   "outputs": [],
   "source": [
    "res = 256\n",
    "runs = append(run_list[res], ['PPMSTAR-512'])\n",
    "layer_lbl = ['cl', 'sl']\n",
    "\n",
    "ifig = 1\n",
    "for layer in (0, 1):\n",
    "    close(ifig)\n",
    "    figure(ifig, figsize=(width, 0.75*width), dpi=scrdpi)\n",
    "    ifig += 1\n",
    "    for i, rid in enumerate(runs):\n",
    "        loglog(k[rid], power[rid][layer, :], ls=ls[i], color=lc[i], label=run_lbls[rid])\n",
    "    \n",
    "    kk = np.arange(1024)\n",
    "    sr = kk**(-5./3.)\n",
    "    if layer == 0:\n",
    "        loglog(kk, 1.4e-5*sr/sr[6], ':', color='k', label=r'$k^{-5/3}$')\n",
    "    xlim((1e0, 2e2))\n",
    "    if layer == 0:\n",
    "        ylim((1e-10, 1e-3))\n",
    "    if layer == 1:\n",
    "        ylim((1e-13, 1e-4))\n",
    "    xlabel(r'$k$')\n",
    "    ylabel(r'$\\frac{1}{2} ||\\, |\\mathbf{\\Psi}|\\, ||^2$')\n",
    "    if layer == 0:\n",
    "        title('Convective layer')\n",
    "    if layer == 1:\n",
    "        title('Stable layer')\n",
    "    legend(loc='lower left')\n",
    "    tight_layout()\n",
    "    savefig(os.path.join(plot_dir, 'spectra_{:s}_{:d}.pdf'.format(layer_lbl[layer], res)), dpi=savedpi)"
   ]
  },
  {
   "cell_type": "code",
   "execution_count": null,
   "metadata": {},
   "outputs": [],
   "source": []
  }
 ],
 "metadata": {
  "kernelspec": {
   "display_name": "Python 3",
   "language": "python",
   "name": "python3"
  },
  "language_info": {
   "codemirror_mode": {
    "name": "ipython",
    "version": 3
   },
   "file_extension": ".py",
   "mimetype": "text/x-python",
   "name": "python",
   "nbconvert_exporter": "python",
   "pygments_lexer": "ipython3",
   "version": "3.7.4"
  }
 },
 "nbformat": 4,
 "nbformat_minor": 4
}
